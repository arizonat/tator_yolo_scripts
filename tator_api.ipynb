{
 "cells": [
  {
   "cell_type": "code",
   "execution_count": 1,
   "metadata": {},
   "outputs": [],
   "source": [
    "import tator"
   ]
  },
  {
   "cell_type": "code",
   "execution_count": 2,
   "metadata": {},
   "outputs": [],
   "source": [
    "HOST = \"https://tator.whoi.edu\"\n",
    "TOKEN = open(\"tator_token.txt\", \"r\").readlines()[0].strip()\n",
    "\n",
    "FISH_DETECTION_PROJECT = 2\n",
    "ANIMAL_BBOX_LOCALIZTION_TYPE = 2"
   ]
  },
  {
   "cell_type": "code",
   "execution_count": 3,
   "metadata": {},
   "outputs": [],
   "source": [
    "api = tator.get_api(HOST, TOKEN)"
   ]
  },
  {
   "cell_type": "code",
   "execution_count": 4,
   "metadata": {},
   "outputs": [
    {
     "data": {
      "text/plain": [
       "[{'backup_bucket': None,\n",
       "  'bucket': None,\n",
       "  'created': '2023-02-21T20:13:28.968Z',\n",
       "  'duration': 0,\n",
       "  'enable_downloads': True,\n",
       "  'id': 2,\n",
       "  'name': 'Fish Detection',\n",
       "  'num_files': 0,\n",
       "  'organization': 2,\n",
       "  'permission': 'Full Control',\n",
       "  'size': 0,\n",
       "  'summary': '',\n",
       "  'thumb': None,\n",
       "  'upload_bucket': None,\n",
       "  'usernames': []}]"
      ]
     },
     "execution_count": 4,
     "metadata": {},
     "output_type": "execute_result"
    }
   ],
   "source": [
    "api.get_project_list()"
   ]
  },
  {
   "cell_type": "code",
   "execution_count": null,
   "metadata": {
    "tags": []
   },
   "outputs": [],
   "source": [
    "media_ids = [437, 438]\n",
    "\n",
    "localization_list = api.get_localization_list(\n",
    "    project=FISH_DETECTION_PROJECT, \n",
    "    type=ANIMAL_BBOX_LOCALIZTION_TYPE,\n",
    "    media_id=media_ids\n",
    ")\n",
    "print(len(localization_list))\n"
   ]
  },
  {
   "cell_type": "code",
   "execution_count": 6,
   "metadata": {
    "tags": []
   },
   "outputs": [
    {
     "name": "stdout",
     "output_type": "stream",
     "text": [
      "{'message': 'Successfully deleted 170712 localizations!'}\n"
     ]
    }
   ],
   "source": [
    "media_ids = [437, 438]\n",
    "\n",
    "ret = api.delete_localization_list(\n",
    "    project=FISH_DETECTION_PROJECT, \n",
    "    type=ANIMAL_BBOX_LOCALIZTION_TYPE,\n",
    "    media_id=media_ids\n",
    ")\n",
    "print(ret)"
   ]
  },
  {
   "cell_type": "code",
   "execution_count": null,
   "metadata": {},
   "outputs": [],
   "source": []
  },
  {
   "cell_type": "code",
   "execution_count": null,
   "metadata": {
    "tags": []
   },
   "outputs": [],
   "source": []
  },
  {
   "cell_type": "code",
   "execution_count": null,
   "metadata": {},
   "outputs": [],
   "source": []
  }
 ],
 "metadata": {
  "kernelspec": {
   "display_name": "Python 3 (ipykernel)",
   "language": "python",
   "name": "python3"
  },
  "language_info": {
   "codemirror_mode": {
    "name": "ipython",
    "version": 3
   },
   "file_extension": ".py",
   "mimetype": "text/x-python",
   "name": "python",
   "nbconvert_exporter": "python",
   "pygments_lexer": "ipython3",
   "version": "3.9.16"
  }
 },
 "nbformat": 4,
 "nbformat_minor": 4
}
